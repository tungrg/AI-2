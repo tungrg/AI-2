{
 "cells": [
  {
   "cell_type": "code",
   "execution_count": 1,
   "metadata": {},
   "outputs": [],
   "source": [
    "fopen = open('Data.txt', 'r') #sua doi ten file.\n",
    "a = fopen.readlines()\n",
    "fopen.close()\n",
    "lmale = []\n",
    "lfemale = []\n",
    "lparent = []\n",
    "lmarried = []\n",
    "ldivorced = []\n",
    "for key in a:\n",
    "    if 'male' in key and key.rfind('male') == 0:\n",
    "        start = key.rfind('(') + 1\n",
    "        end = key.rfind(')')\n",
    "        lmale.append(key[start:end])\n",
    "    if 'female' in key and key.rfind('female') == 0:\n",
    "        start = key.rfind('(') + 1\n",
    "        end = key.rfind(')')\n",
    "        lfemale.append(key[start:end])\n",
    "    if 'parent' in key and key.rfind('parent') == 0:\n",
    "        start = key.rfind('(') + 1\n",
    "        dau = key.rfind(',')\n",
    "        end = key.rfind(')')\n",
    "        lparent.append((key[start:dau],key[dau+1:end]))\n",
    "    if 'married' in key and key.rfind('married') == 0:\n",
    "        start = key.rfind('(') + 1\n",
    "        dau = key.rfind(',')\n",
    "        end = key.rfind(')')\n",
    "        lmarried.append((key[start:dau],key[dau+1:end]))\n",
    "    if 'divorced' in key and key.rfind('divorced') == 0:\n",
    "        start = key.rfind('(') + 1\n",
    "        dau = key.rfind(',')\n",
    "        end = key.rfind(')')\n",
    "        ldivorced.append((key[start:dau],key[dau+1:end]))"
   ]
  },
  {
   "cell_type": "code",
   "execution_count": 2,
   "metadata": {},
   "outputs": [],
   "source": [
    "def male(Person):\n",
    "    if Person in lmale:\n",
    "        return True\n",
    "    return False"
   ]
  },
  {
   "cell_type": "code",
   "execution_count": 3,
   "metadata": {},
   "outputs": [],
   "source": [
    "def female(Person):\n",
    "    if Person in lfemale:\n",
    "        return True\n",
    "    return False\n",
    "def checkPerson(Person):\n",
    "    list_people = []\n",
    "    list_people = lmale+lfemale\n",
    "    if Person in list_people:\n",
    "        return True\n",
    "    return False"
   ]
  },
  {
   "cell_type": "code",
   "execution_count": 4,
   "metadata": {},
   "outputs": [],
   "source": [
    "def married(Person1, Person2):\n",
    "    if Person1 == 'X' or Person1 == 'x':\n",
    "        list = []\n",
    "        for couple in lmarried:\n",
    "            if couple[0] == Person2:\n",
    "                list.append((couple[1],couple[0]))\n",
    "                return list\n",
    "            if couple[1] == Person2:\n",
    "                list.append((couple[0],couple[1]))\n",
    "                return list\n",
    "        return False\n",
    "    else:\n",
    "        if (Person1,Person2) in lmarried:\n",
    "            return True\n",
    "        else:\n",
    "            return False"
   ]
  },
  {
   "cell_type": "code",
   "execution_count": 5,
   "metadata": {},
   "outputs": [
    {
     "data": {
      "text/plain": [
       "[('timothy', 'pAnne')]"
      ]
     },
     "execution_count": 5,
     "metadata": {},
     "output_type": "execute_result"
    }
   ],
   "source": [
    "married('x','pAnne')"
   ]
  },
  {
   "cell_type": "code",
   "execution_count": 6,
   "metadata": {},
   "outputs": [],
   "source": [
    "def parent(Person1, Person2):\n",
    "    if Person1 == 'X' or Person1 == 'x':\n",
    "        count = 0\n",
    "        list = []\n",
    "        for couple in lparent:\n",
    "            if couple[1] == Person2:\n",
    "                #print(couple[0],' parent of ',couple[1])\n",
    "                list.append((couple[0],couple[1]))\n",
    "                count += 1\n",
    "        if count == 0:\n",
    "            return 0\n",
    "        else:\n",
    "            return list\n",
    "                \n",
    "    if Person2 == 'X' or Person2 == 'x':\n",
    "        count = 0\n",
    "        list =[]\n",
    "        for couple in lparent:\n",
    "            if couple[0] == Person1:\n",
    "                #print(couple[1], ' children of ',couple[0])\n",
    "                list.append((couple[0],couple[1]))\n",
    "                count += 1\n",
    "        if count == 0:\n",
    "            return 0\n",
    "        else:\n",
    "            return list\n",
    "    else:\n",
    "        if (Person1,Person2) in lparent:\n",
    "            return True\n",
    "        else:\n",
    "            return False"
   ]
  },
  {
   "cell_type": "code",
   "execution_count": 7,
   "metadata": {},
   "outputs": [
    {
     "data": {
      "text/plain": [
       "[('pWilliam', 'pGeorge'), ('pWilliam', 'pCharlotte')]"
      ]
     },
     "execution_count": 7,
     "metadata": {},
     "output_type": "execute_result"
    }
   ],
   "source": [
    "parent('pWilliam','x')"
   ]
  },
  {
   "cell_type": "code",
   "execution_count": 8,
   "metadata": {},
   "outputs": [],
   "source": [
    "def divorced(Person1, Person2):\n",
    "    if Person1 == 'X' or Person1 == 'x':\n",
    "        list = []\n",
    "        for couple in ldivorced:\n",
    "            if couple[0] == Person2:\n",
    "                list.append((couple[1],couple[0]))\n",
    "                return list\n",
    "            if couple[1] == Person2:\n",
    "                list.append((couple[0],couple[1]))\n",
    "                return list\n",
    "        return False\n",
    "    else:\n",
    "        if (Person1,Person2) in ldivorced:\n",
    "            return True\n",
    "        else:\n",
    "            return False"
   ]
  },
  {
   "cell_type": "code",
   "execution_count": 9,
   "metadata": {},
   "outputs": [
    {
     "data": {
      "text/plain": [
       "True"
      ]
     },
     "execution_count": 9,
     "metadata": {},
     "output_type": "execute_result"
    }
   ],
   "source": [
    "divorced('sarah','pAndrew')"
   ]
  },
  {
   "cell_type": "code",
   "execution_count": 10,
   "metadata": {},
   "outputs": [],
   "source": [
    "def husband(Person, Wife):\n",
    "    if female(Wife) == False:\n",
    "        return False\n",
    "    if Person =='X'or Person == 'x':\n",
    "        list =[]\n",
    "        if female(Wife):\n",
    "            temp = married(Person,Wife)\n",
    "            if temp == False:\n",
    "                return False\n",
    "            else:\n",
    "                list.append(temp[0])\n",
    "                return list\n",
    "    if female(Wife) and married(Person, Wife) and male(Person):\n",
    "        return True\n",
    "    return False"
   ]
  },
  {
   "cell_type": "code",
   "execution_count": 11,
   "metadata": {},
   "outputs": [
    {
     "data": {
      "text/plain": [
       "[('timothy', 'pAnne')]"
      ]
     },
     "execution_count": 11,
     "metadata": {},
     "output_type": "execute_result"
    }
   ],
   "source": [
    "husband('x','pAnne')"
   ]
  },
  {
   "cell_type": "code",
   "execution_count": 12,
   "metadata": {},
   "outputs": [],
   "source": [
    "def wife(Person, Husband):\n",
    "    if male(Husband) == False:\n",
    "        return False\n",
    "    if Person =='X'or Person == 'x':\n",
    "        list = []\n",
    "        if male(Husband):\n",
    "            temp = married(Person,Husband)\n",
    "            if temp == False:\n",
    "                return False\n",
    "            else:\n",
    "                list.append(temp[0])\n",
    "                return list\n",
    "    if male(Husband) and married(Person, Husband) and female(Person):\n",
    "        return True\n",
    "    return False"
   ]
  },
  {
   "cell_type": "code",
   "execution_count": 13,
   "metadata": {},
   "outputs": [
    {
     "data": {
      "text/plain": [
       "[('autumn', 'peter')]"
      ]
     },
     "execution_count": 13,
     "metadata": {},
     "output_type": "execute_result"
    }
   ],
   "source": [
    "wife('x','peter')"
   ]
  },
  {
   "cell_type": "code",
   "execution_count": 14,
   "metadata": {},
   "outputs": [],
   "source": [
    "def child(Children,Parent):\n",
    "    if Children =='X'or Children == 'x':\n",
    "        temp = parent(Parent,Children)\n",
    "        if temp == 0:\n",
    "            return False\n",
    "        list = []\n",
    "        for key in temp:\n",
    "            list.append((key[1],key[0]))\n",
    "        return list\n",
    "    if parent(Parent,Children):\n",
    "        return True\n",
    "    return False"
   ]
  },
  {
   "cell_type": "code",
   "execution_count": 15,
   "metadata": {},
   "outputs": [
    {
     "data": {
      "text/plain": [
       "[('pWilliam', 'pCharles'), ('pHarry', 'pCharles')]"
      ]
     },
     "execution_count": 15,
     "metadata": {},
     "output_type": "execute_result"
    }
   ],
   "source": [
    "child('x','pCharles')"
   ]
  },
  {
   "cell_type": "code",
   "execution_count": 16,
   "metadata": {},
   "outputs": [],
   "source": [
    "def father(Parent, Child):\n",
    "    if Parent == 'x' or Parent == 'X':\n",
    "        temp = parent(Parent, Child)\n",
    "        if temp == 0:\n",
    "            return False\n",
    "        count = 0\n",
    "        list = []\n",
    "        for key in temp:\n",
    "            if male(key[0]):\n",
    "                list.append(key)\n",
    "                count += 1\n",
    "        if count == 0:\n",
    "            return False\n",
    "        return list\n",
    "    if male(Parent) and parent(Parent, Child):\n",
    "        return True\n",
    "    return False"
   ]
  },
  {
   "cell_type": "code",
   "execution_count": 17,
   "metadata": {},
   "outputs": [
    {
     "data": {
      "text/plain": [
       "[('pPhillip', 'pCharles')]"
      ]
     },
     "execution_count": 17,
     "metadata": {},
     "output_type": "execute_result"
    }
   ],
   "source": [
    "father('x','pCharles')"
   ]
  },
  {
   "cell_type": "code",
   "execution_count": 18,
   "metadata": {},
   "outputs": [],
   "source": [
    "def mother(Parent, Child):\n",
    "    if Parent == 'x' or Parent == 'X':\n",
    "        temp = parent(Parent, Child)\n",
    "        if temp == 0:\n",
    "            return False\n",
    "        count = 0\n",
    "        list = []\n",
    "        for key in temp:\n",
    "            if female(key[0]):\n",
    "                list.append(key)\n",
    "                count += 1\n",
    "        if count == 0:\n",
    "            return False\n",
    "        return list\n",
    "    if female(Parent) and parent(Parent, Child):\n",
    "        return True\n",
    "    return False"
   ]
  },
  {
   "cell_type": "code",
   "execution_count": 19,
   "metadata": {},
   "outputs": [
    {
     "data": {
      "text/plain": [
       "[('pDiana', 'pWilliam')]"
      ]
     },
     "execution_count": 19,
     "metadata": {},
     "output_type": "execute_result"
    }
   ],
   "source": [
    "mother('x','pWilliam')"
   ]
  },
  {
   "cell_type": "code",
   "execution_count": 20,
   "metadata": {},
   "outputs": [],
   "source": [
    "def son(Child, Parent):\n",
    "    if Child == 'X' or Child == 'x':\n",
    "        temp = child(Child,Parent)\n",
    "        if temp == False:\n",
    "            return False\n",
    "        list=[]\n",
    "        count = 0\n",
    "        for key in temp:\n",
    "            if male(key[0]):\n",
    "                list.append(key)\n",
    "                count += 1\n",
    "        if count == 0:\n",
    "            return False\n",
    "        else:\n",
    "            return list\n",
    "    if male(Child) and child(Child,Parent):\n",
    "        return True\n",
    "    return False"
   ]
  },
  {
   "cell_type": "code",
   "execution_count": 21,
   "metadata": {},
   "outputs": [
    {
     "data": {
      "text/plain": [
       "[('pCharles', 'qElizabethII'),\n",
       " ('pAndrew', 'qElizabethII'),\n",
       " ('pEdward', 'qElizabethII')]"
      ]
     },
     "execution_count": 21,
     "metadata": {},
     "output_type": "execute_result"
    }
   ],
   "source": [
    "son('x','qElizabethII')"
   ]
  },
  {
   "cell_type": "code",
   "execution_count": 22,
   "metadata": {},
   "outputs": [],
   "source": [
    "def daughter(Child, Parent):\n",
    "    if Child == 'X' or Child == 'x':\n",
    "        temp = child(Child,Parent)\n",
    "        if temp == False:\n",
    "            return False\n",
    "        list=[]\n",
    "        count = 0\n",
    "        for key in temp:\n",
    "            if female(key[0]):\n",
    "                list.append(key)\n",
    "                count += 1\n",
    "        if count == 0:\n",
    "            return False\n",
    "        else:\n",
    "            return list\n",
    "    if female(Child) and child(Child,Parent):\n",
    "        return True\n",
    "    return False"
   ]
  },
  {
   "cell_type": "code",
   "execution_count": 23,
   "metadata": {},
   "outputs": [
    {
     "data": {
      "text/plain": [
       "[('zara', 'pAnne')]"
      ]
     },
     "execution_count": 23,
     "metadata": {},
     "output_type": "execute_result"
    }
   ],
   "source": [
    "daughter('x','pAnne')"
   ]
  },
  {
   "cell_type": "code",
   "execution_count": 24,
   "metadata": {},
   "outputs": [],
   "source": [
    "def grandparent(GP, GC):\n",
    "    temp = parent('x',GC)\n",
    "    if temp == 0:\n",
    "        return False\n",
    "    list = []\n",
    "    for key in temp:\n",
    "        temp1 = parent('x',key[0])\n",
    "        if temp1 == 0:\n",
    "            continue\n",
    "        if GP == 'X' or GP == 'x':\n",
    "            count = 0\n",
    "            for key in temp1:\n",
    "                list.append((key[0],GC))\n",
    "                count += 1\n",
    "            if count == 0:\n",
    "                continue\n",
    "            else:\n",
    "                return list\n",
    "        else:\n",
    "            for key in temp1:\n",
    "                if key[0] == GP:\n",
    "                    return True\n",
    "            return False"
   ]
  },
  {
   "cell_type": "code",
   "execution_count": 25,
   "metadata": {},
   "outputs": [
    {
     "data": {
      "text/plain": [
       "[('captain_Mark', 'mia_Grace'), ('pAnne', 'mia_Grace')]"
      ]
     },
     "execution_count": 25,
     "metadata": {},
     "output_type": "execute_result"
    }
   ],
   "source": [
    "grandparent('x','mia_Grace')"
   ]
  },
  {
   "cell_type": "code",
   "execution_count": 26,
   "metadata": {},
   "outputs": [],
   "source": [
    "def grandmother(GM,GC):\n",
    "    temp = grandparent(GM,GC)\n",
    "    if temp == False:\n",
    "        return False\n",
    "    if temp == True:\n",
    "        if female(GM):\n",
    "            return True\n",
    "        else:\n",
    "            return False\n",
    "    list=[]\n",
    "    for key in temp:\n",
    "        if female(key[0]):\n",
    "            list.append(key)\n",
    "    return list"
   ]
  },
  {
   "cell_type": "code",
   "execution_count": 27,
   "metadata": {},
   "outputs": [
    {
     "data": {
      "text/plain": [
       "[('pDiana', 'pGeorge')]"
      ]
     },
     "execution_count": 27,
     "metadata": {},
     "output_type": "execute_result"
    }
   ],
   "source": [
    "grandmother('X','pGeorge')"
   ]
  },
  {
   "cell_type": "code",
   "execution_count": 28,
   "metadata": {},
   "outputs": [],
   "source": [
    "def grandfather(GF,GC):\n",
    "    temp = grandparent(GF,GC)\n",
    "    if temp == False:\n",
    "        return False\n",
    "    if temp == True:\n",
    "        if male(GF):\n",
    "            return True\n",
    "        else:\n",
    "            return False\n",
    "    list = []\n",
    "    for key in temp:\n",
    "        if male(key[0]):\n",
    "            list.append(key)\n",
    "    return list"
   ]
  },
  {
   "cell_type": "code",
   "execution_count": 29,
   "metadata": {},
   "outputs": [
    {
     "data": {
      "text/plain": [
       "[('pCharles', 'pGeorge')]"
      ]
     },
     "execution_count": 29,
     "metadata": {},
     "output_type": "execute_result"
    }
   ],
   "source": [
    "grandfather('X','pGeorge')"
   ]
  },
  {
   "cell_type": "code",
   "execution_count": 30,
   "metadata": {},
   "outputs": [],
   "source": [
    "def grandchild(GC, GP):\n",
    "    temp = parent(GP,'x')\n",
    "    if temp == 0:\n",
    "        return False\n",
    "    list = []\n",
    "    for key in temp:\n",
    "        temp1 = parent(key[1],'x')\n",
    "        if temp1 == 0:\n",
    "            continue\n",
    "        if GC == 'X' or GC == 'x':\n",
    "            count = 0\n",
    "            for key in temp1:\n",
    "                list.append((key[1],GP))\n",
    "                count += 1\n",
    "            if count == 0:\n",
    "                continue\n",
    "            else:\n",
    "                return list\n",
    "        else:\n",
    "            for key in temp1:\n",
    "                if key[1] == GC:\n",
    "                    return True\n",
    "            return False"
   ]
  },
  {
   "cell_type": "code",
   "execution_count": 31,
   "metadata": {},
   "outputs": [
    {
     "data": {
      "text/plain": [
       "[('savannah', 'pAnne'), ('isla', 'pAnne')]"
      ]
     },
     "execution_count": 31,
     "metadata": {},
     "output_type": "execute_result"
    }
   ],
   "source": [
    "grandchild('x','pAnne')"
   ]
  },
  {
   "cell_type": "code",
   "execution_count": 32,
   "metadata": {},
   "outputs": [],
   "source": [
    "def grandson(GS,GC):\n",
    "    temp = grandchild(GS,GC)\n",
    "    if temp == False:\n",
    "        return False\n",
    "    if temp == True:\n",
    "        if male(GS):\n",
    "            return True\n",
    "        else:\n",
    "            return False\n",
    "    list = []\n",
    "    count = 0\n",
    "    for key in temp:\n",
    "        if male(key[0]):\n",
    "            list.append(key)\n",
    "            count += 1\n",
    "    if count == 0:\n",
    "        return False\n",
    "    else:\n",
    "        return list"
   ]
  },
  {
   "cell_type": "code",
   "execution_count": 33,
   "metadata": {},
   "outputs": [
    {
     "data": {
      "text/plain": [
       "[('pGeorge', 'pCharles')]"
      ]
     },
     "execution_count": 33,
     "metadata": {},
     "output_type": "execute_result"
    }
   ],
   "source": [
    "grandson('x','pCharles')"
   ]
  },
  {
   "cell_type": "code",
   "execution_count": 34,
   "metadata": {},
   "outputs": [],
   "source": [
    "def granddaughter(GD,GP):\n",
    "    temp = grandchild(GD,GP)\n",
    "    if temp == False:\n",
    "        return False\n",
    "    if temp == True:\n",
    "        if female(GD):\n",
    "            return True\n",
    "        else:\n",
    "            return False\n",
    "    list = []\n",
    "    count = 0\n",
    "    for key in temp:\n",
    "        if female(key[0]):\n",
    "            list.append(key)\n",
    "            count += 1\n",
    "    if count == 0:\n",
    "        return False\n",
    "    else:\n",
    "        return list"
   ]
  },
  {
   "cell_type": "code",
   "execution_count": 35,
   "metadata": {},
   "outputs": [
    {
     "data": {
      "text/plain": [
       "[('savannah', 'pAnne'), ('isla', 'pAnne')]"
      ]
     },
     "execution_count": 35,
     "metadata": {},
     "output_type": "execute_result"
    }
   ],
   "source": [
    "granddaughter('x','pAnne')"
   ]
  },
  {
   "cell_type": "code",
   "execution_count": 36,
   "metadata": {},
   "outputs": [],
   "source": [
    "def sibling(Person1,Person2):\n",
    "    temp = father('x',Person2)\n",
    "    if temp == False:\n",
    "        return False\n",
    "    temp1 = child('x',temp[0][0])\n",
    "    list = []\n",
    "    count = 0\n",
    "    for key in temp1:\n",
    "        if key[0] != Person2:\n",
    "            list.append((key[0],Person2))\n",
    "            count += 1\n",
    "    if count == 0:\n",
    "        return False\n",
    "    if Person1 == 'x' or Person2 == 'X':\n",
    "        return list\n",
    "    else:\n",
    "        for key in list:\n",
    "            if Person1 == key[0]:\n",
    "                return True\n",
    "    return False"
   ]
  },
  {
   "cell_type": "code",
   "execution_count": 37,
   "metadata": {},
   "outputs": [
    {
     "data": {
      "text/plain": [
       "[('pAnne', 'pCharles'), ('pAndrew', 'pCharles'), ('pEdward', 'pCharles')]"
      ]
     },
     "execution_count": 37,
     "metadata": {},
     "output_type": "execute_result"
    }
   ],
   "source": [
    "sibling('x','pCharles')"
   ]
  },
  {
   "cell_type": "code",
   "execution_count": 38,
   "metadata": {},
   "outputs": [],
   "source": [
    "def brother(Person,Sibling):\n",
    "    temp = sibling('x',Sibling)\n",
    "    if temp == False:\n",
    "        return False\n",
    "    list = []\n",
    "    count = 0\n",
    "    for key in temp:\n",
    "        if male(key[0]):\n",
    "            list.append(key)\n",
    "            count += 1\n",
    "    if count == 0:\n",
    "        return False\n",
    "    else:\n",
    "        if Person == 'X' or Person == 'x':\n",
    "            return list\n",
    "        else:\n",
    "            for key in list:\n",
    "                if key[0] == Person:\n",
    "                    return True\n",
    "        return False"
   ]
  },
  {
   "cell_type": "code",
   "execution_count": 39,
   "metadata": {},
   "outputs": [
    {
     "data": {
      "text/plain": [
       "[('pAndrew', 'pCharles'), ('pEdward', 'pCharles')]"
      ]
     },
     "execution_count": 39,
     "metadata": {},
     "output_type": "execute_result"
    }
   ],
   "source": [
    "brother('x','pCharles')"
   ]
  },
  {
   "cell_type": "code",
   "execution_count": 40,
   "metadata": {},
   "outputs": [],
   "source": [
    "def sister(Person,Sibling):\n",
    "    temp = sibling('x',Sibling)\n",
    "    if temp == False:\n",
    "        return False\n",
    "    list = []\n",
    "    count = 0\n",
    "    for key in temp:\n",
    "        if female(key[0]):\n",
    "            list.append(key)\n",
    "            count += 1\n",
    "    if count == 0:\n",
    "        return False\n",
    "    else:\n",
    "        if Person == 'X' or Person == 'x':\n",
    "            return list\n",
    "        else:\n",
    "            for key in list:\n",
    "                if key[0] == Person:\n",
    "                    return True\n",
    "        return False"
   ]
  },
  {
   "cell_type": "code",
   "execution_count": 41,
   "metadata": {},
   "outputs": [
    {
     "data": {
      "text/plain": [
       "[('pAnne', 'pCharles')]"
      ]
     },
     "execution_count": 41,
     "metadata": {},
     "output_type": "execute_result"
    }
   ],
   "source": [
    "sister('x','pCharles')"
   ]
  },
  {
   "cell_type": "code",
   "execution_count": 42,
   "metadata": {},
   "outputs": [],
   "source": [
    "def aunt(Person,NieceNephew):\n",
    "    temp = parent('x',NieceNephew)\n",
    "    if temp == False:\n",
    "        return False\n",
    "    list = []\n",
    "    for key in temp:\n",
    "        temp1 = sister('x',key[0])\n",
    "        if temp1 == False:\n",
    "            continue\n",
    "        count = 0\n",
    "        for key1 in temp1:\n",
    "            list.append((key1[0],NieceNephew))\n",
    "            count+= 1\n",
    "        if count == 0:\n",
    "            continue\n",
    "    if Person == 'x' or Person == 'X':\n",
    "        if len(list) == 0:\n",
    "            return False\n",
    "        else:\n",
    "            return list\n",
    "    for key in list:\n",
    "        if Person == key[0]:\n",
    "            return True\n",
    "    return False"
   ]
  },
  {
   "cell_type": "code",
   "execution_count": 43,
   "metadata": {},
   "outputs": [
    {
     "data": {
      "text/plain": [
       "[('pAnne', 'pHarry')]"
      ]
     },
     "execution_count": 43,
     "metadata": {},
     "output_type": "execute_result"
    }
   ],
   "source": [
    "aunt('x','pHarry')"
   ]
  },
  {
   "cell_type": "code",
   "execution_count": 44,
   "metadata": {},
   "outputs": [],
   "source": [
    "def uncle(Person,NieceNephew):\n",
    "    temp = parent('x',NieceNephew)\n",
    "    if temp == False:\n",
    "        return False\n",
    "    list = []\n",
    "    for key in temp:\n",
    "        temp1 = brother('x',key[0])\n",
    "        if temp1 == False:\n",
    "            continue\n",
    "        count = 0\n",
    "        for key1 in temp1:\n",
    "            list.append((key1[0],NieceNephew))\n",
    "            count+= 1\n",
    "        if count == 0:\n",
    "            continue\n",
    "    if Person == 'x' or Person == 'X':\n",
    "        if len(list) == 0:\n",
    "            return False\n",
    "        else:\n",
    "            return list\n",
    "    for key in list:\n",
    "        if Person == key[0]:\n",
    "            return True\n",
    "    return False"
   ]
  },
  {
   "cell_type": "code",
   "execution_count": 45,
   "metadata": {},
   "outputs": [
    {
     "data": {
      "text/plain": [
       "[('pCharles', 'peter'), ('pAndrew', 'peter'), ('pEdward', 'peter')]"
      ]
     },
     "execution_count": 45,
     "metadata": {},
     "output_type": "execute_result"
    }
   ],
   "source": [
    "uncle('x','peter')"
   ]
  },
  {
   "cell_type": "code",
   "execution_count": 46,
   "metadata": {},
   "outputs": [],
   "source": [
    "def niece(Person,AuntUncle):\n",
    "    temp = sibling('x', AuntUncle)\n",
    "    if temp == False:\n",
    "        return False\n",
    "    list = []\n",
    "    count = 0\n",
    "    for key in temp:\n",
    "        temp1 = daughter('x',key[0])\n",
    "        if temp1 == False:\n",
    "            continue\n",
    "        for key1 in temp1:\n",
    "            list.append((key1[0],AuntUncle))\n",
    "            count += 1\n",
    "    if Person == 'x' or Person == 'X':\n",
    "        if len(list) == 0:\n",
    "            return False\n",
    "        else:\n",
    "            return list\n",
    "    for key in list:\n",
    "        if Person == key[0]:\n",
    "            return True\n",
    "    return False"
   ]
  },
  {
   "cell_type": "code",
   "execution_count": 47,
   "metadata": {},
   "outputs": [
    {
     "data": {
      "text/plain": [
       "[('pBeatrice', 'pAnne'), ('pEugenie', 'pAnne'), ('lady_Louise', 'pAnne')]"
      ]
     },
     "execution_count": 47,
     "metadata": {},
     "output_type": "execute_result"
    }
   ],
   "source": [
    "niece('x','pAnne')"
   ]
  },
  {
   "cell_type": "code",
   "execution_count": 48,
   "metadata": {},
   "outputs": [],
   "source": [
    "def nephew(Person,AuntUncle):\n",
    "    temp = sibling('x', AuntUncle)\n",
    "    if temp == False:\n",
    "        return False\n",
    "    list = []\n",
    "    count = 0\n",
    "    for key in temp:\n",
    "        temp1 = son('x',key[0])\n",
    "        if temp1 == False:\n",
    "            continue\n",
    "        for key1 in temp1:\n",
    "            list.append((key1[0],AuntUncle))\n",
    "            count += 1\n",
    "    if Person == 'x' or Person == 'X':\n",
    "        if len(list) == 0:\n",
    "            return False\n",
    "        else:\n",
    "            return list\n",
    "    for key in list:\n",
    "        if Person == key[0]:\n",
    "            return True\n",
    "    return False"
   ]
  },
  {
   "cell_type": "code",
   "execution_count": 49,
   "metadata": {},
   "outputs": [
    {
     "data": {
      "text/plain": [
       "[('pWilliam', 'pAnne'), ('pHarry', 'pAnne'), ('james', 'pAnne')]"
      ]
     },
     "execution_count": 49,
     "metadata": {},
     "output_type": "execute_result"
    }
   ],
   "source": [
    "nephew('x','pAnne')"
   ]
  },
  {
   "cell_type": "code",
   "execution_count": 50,
   "metadata": {},
   "outputs": [
    {
     "data": {
      "text/plain": [
       "[('captain_Mark', 'isla'), ('pAnne', 'isla')]"
      ]
     },
     "execution_count": 50,
     "metadata": {},
     "output_type": "execute_result"
    }
   ],
   "source": [
    "grandparent('X','isla')"
   ]
  },
  {
   "cell_type": "code",
   "execution_count": 51,
   "metadata": {},
   "outputs": [
    {
     "data": {
      "text/plain": [
       "[('pCharles', 'qElizabethII'),\n",
       " ('pAnne', 'qElizabethII'),\n",
       " ('pAndrew', 'qElizabethII'),\n",
       " ('pEdward', 'qElizabethII')]"
      ]
     },
     "execution_count": 51,
     "metadata": {},
     "output_type": "execute_result"
    }
   ],
   "source": [
    "child('X','qElizabethII')"
   ]
  },
  {
   "cell_type": "code",
   "execution_count": 52,
   "metadata": {},
   "outputs": [
    {
     "data": {
      "text/plain": [
       "True"
      ]
     },
     "execution_count": 52,
     "metadata": {},
     "output_type": "execute_result"
    }
   ],
   "source": [
    "sibling('pWilliam','pHarry')"
   ]
  },
  {
   "cell_type": "code",
   "execution_count": 53,
   "metadata": {},
   "outputs": [
    {
     "data": {
      "text/plain": [
       "False"
      ]
     },
     "execution_count": 53,
     "metadata": {},
     "output_type": "execute_result"
    }
   ],
   "source": [
    "sibling('pWilliam','pBeatrice')"
   ]
  },
  {
   "cell_type": "code",
   "execution_count": 54,
   "metadata": {},
   "outputs": [
    {
     "data": {
      "text/plain": [
       "False"
      ]
     },
     "execution_count": 54,
     "metadata": {},
     "output_type": "execute_result"
    }
   ],
   "source": [
    "son('X','peter')"
   ]
  },
  {
   "cell_type": "code",
   "execution_count": 55,
   "metadata": {},
   "outputs": [
    {
     "data": {
      "text/plain": [
       "[('savannah', 'peter'), ('isla', 'peter')]"
      ]
     },
     "execution_count": 55,
     "metadata": {},
     "output_type": "execute_result"
    }
   ],
   "source": [
    "daughter('X','peter')"
   ]
  },
  {
   "cell_type": "code",
   "execution_count": 56,
   "metadata": {},
   "outputs": [
    {
     "data": {
      "text/plain": [
       "False"
      ]
     },
     "execution_count": 56,
     "metadata": {},
     "output_type": "execute_result"
    }
   ],
   "source": [
    "uncle('X','isla')"
   ]
  },
  {
   "cell_type": "code",
   "execution_count": 57,
   "metadata": {},
   "outputs": [
    {
     "data": {
      "text/plain": [
       "[('pAnne', 'pWilliam')]"
      ]
     },
     "execution_count": 57,
     "metadata": {},
     "output_type": "execute_result"
    }
   ],
   "source": [
    "aunt('X','pWilliam')"
   ]
  },
  {
   "cell_type": "code",
   "execution_count": 58,
   "metadata": {},
   "outputs": [
    {
     "data": {
      "text/plain": [
       "[('sarah', 'pBeatrice')]"
      ]
     },
     "execution_count": 58,
     "metadata": {},
     "output_type": "execute_result"
    }
   ],
   "source": [
    "mother('X','pBeatrice')"
   ]
  },
  {
   "cell_type": "code",
   "execution_count": 59,
   "metadata": {},
   "outputs": [
    {
     "data": {
      "text/plain": [
       "[('autumn', 'peter')]"
      ]
     },
     "execution_count": 59,
     "metadata": {},
     "output_type": "execute_result"
    }
   ],
   "source": [
    "wife('X','peter')"
   ]
  },
  {
   "cell_type": "code",
   "execution_count": 60,
   "metadata": {},
   "outputs": [
    {
     "data": {
      "text/plain": [
       "False"
      ]
     },
     "execution_count": 60,
     "metadata": {},
     "output_type": "execute_result"
    }
   ],
   "source": [
    "husband('x','pDiana')"
   ]
  },
  {
   "cell_type": "code",
   "execution_count": 61,
   "metadata": {},
   "outputs": [
    {
     "data": {
      "text/plain": [
       "True"
      ]
     },
     "execution_count": 61,
     "metadata": {},
     "output_type": "execute_result"
    }
   ],
   "source": [
    "grandfather('pPhillip','zara')"
   ]
  },
  {
   "cell_type": "code",
   "execution_count": 62,
   "metadata": {},
   "outputs": [
    {
     "data": {
      "text/plain": [
       "[('qElizabethII', 'james')]"
      ]
     },
     "execution_count": 62,
     "metadata": {},
     "output_type": "execute_result"
    }
   ],
   "source": [
    "grandmother('X','james')"
   ]
  },
  {
   "cell_type": "code",
   "execution_count": 63,
   "metadata": {},
   "outputs": [
    {
     "data": {
      "text/plain": [
       "[('peter', 'pCharles'), ('james', 'pCharles')]"
      ]
     },
     "execution_count": 63,
     "metadata": {},
     "output_type": "execute_result"
    }
   ],
   "source": [
    "nephew('X','pCharles')"
   ]
  },
  {
   "cell_type": "code",
   "execution_count": 64,
   "metadata": {},
   "outputs": [
    {
     "data": {
      "text/plain": [
       "False"
      ]
     },
     "execution_count": 64,
     "metadata": {},
     "output_type": "execute_result"
    }
   ],
   "source": [
    "niece('mia_Grace','qElizabethII')"
   ]
  },
  {
   "cell_type": "code",
   "execution_count": 65,
   "metadata": {},
   "outputs": [
    {
     "data": {
      "text/plain": [
       "[('pCharles', 'pEdward'), ('pAndrew', 'pEdward')]"
      ]
     },
     "execution_count": 65,
     "metadata": {},
     "output_type": "execute_result"
    }
   ],
   "source": [
    "brother('X','pEdward')"
   ]
  },
  {
   "cell_type": "code",
   "execution_count": 66,
   "metadata": {},
   "outputs": [
    {
     "data": {
      "text/plain": [
       "False"
      ]
     },
     "execution_count": 66,
     "metadata": {},
     "output_type": "execute_result"
    }
   ],
   "source": [
    "niece('pCharlotte','savannah')"
   ]
  },
  {
   "cell_type": "code",
   "execution_count": 67,
   "metadata": {},
   "outputs": [
    {
     "data": {
      "text/plain": [
       "True"
      ]
     },
     "execution_count": 67,
     "metadata": {},
     "output_type": "execute_result"
    }
   ],
   "source": [
    "sister('lady_Louise','james')"
   ]
  },
  {
   "cell_type": "code",
   "execution_count": 68,
   "metadata": {},
   "outputs": [
    {
     "data": {
      "text/plain": [
       "False"
      ]
     },
     "execution_count": 68,
     "metadata": {},
     "output_type": "execute_result"
    }
   ],
   "source": [
    "married('pDiana','pCharles')"
   ]
  },
  {
   "cell_type": "code",
   "execution_count": 69,
   "metadata": {},
   "outputs": [
    {
     "data": {
      "text/plain": [
       "True"
      ]
     },
     "execution_count": 69,
     "metadata": {},
     "output_type": "execute_result"
    }
   ],
   "source": [
    "divorced('sarah','pAndrew')"
   ]
  },
  {
   "cell_type": "code",
   "execution_count": 70,
   "metadata": {},
   "outputs": [],
   "source": [
    "fopen = open('20-Questions.txt', 'r') #sua doi ten file.\n",
    "any_questions = fopen.readlines()\n",
    "fopen.close()\n",
    "any_questions[len(any_questions)-1] += '\\n'"
   ]
  },
  {
   "cell_type": "code",
   "execution_count": 71,
   "metadata": {},
   "outputs": [],
   "source": [
    "def writeFile(answer,fwrite):\n",
    "    if answer == False:\n",
    "            fwrite.write(f'\\tfalse.\\n')\n",
    "    else:\n",
    "        if answer == True:\n",
    "            fwrite.write(f'\\ttrue.\\n')\n",
    "        else:\n",
    "            for key in answer:\n",
    "                fwrite.write(f'\\tX = {key[0]}\\n')"
   ]
  },
  {
   "cell_type": "code",
   "execution_count": 72,
   "metadata": {
    "pycharm": {
     "name": "#%%\n"
    }
   },
   "outputs": [],
   "source": [
    "fw = open(\"Answer3_1.txt\", \"w\")\n",
    "def handleFile(questions,fwrite):\n",
    "    count = 1\n",
    "    for key in questions:\n",
    "        start=key.rfind('(') + 1  \n",
    "        dau = key.rfind(',')\n",
    "        end = key.rfind(')')\n",
    "        if key[3:start-1] == \"grandparent\":\n",
    "            answer =  grandparent(key[start:dau],key[dau+1:end])\n",
    "            fwrite.write(f'{count}. {key}')\n",
    "            count += 1\n",
    "            writeFile(answer,fwrite)\n",
    "        elif key[3:start-1] == \"child\":\n",
    "            answer =  child(key[start:dau],key[dau+1:end])\n",
    "            fwrite.write(f'{count}. {key}')\n",
    "            count += 1\n",
    "            writeFile(answer,fwrite)\n",
    "        elif key[3:start-1] == \"grandmother\":\n",
    "            answer =  grandmother(key[start:dau],key[dau+1:end])\n",
    "            fwrite.write(f'{count}. {key}')\n",
    "            count += 1\n",
    "            writeFile(answer,fwrite)\n",
    "        elif key[3:start-1] == \"husband\":\n",
    "            answer =  husband(key[start:dau],key[dau+1:end])\n",
    "            fwrite.write(f'{count}. {key}')\n",
    "            count += 1\n",
    "            writeFile(answer,fwrite)\n",
    "        elif key[3:start-1] == \"wife\":\n",
    "            answer =  wife(key[start:dau],key[dau+1:end])\n",
    "            fwrite.write(f'{count}. {key}')\n",
    "            count += 1\n",
    "            writeFile(answer,fwrite)\n",
    "        elif key[3:start-1] == \"father\":\n",
    "            answer =  father(key[start:dau],key[dau+1:end])\n",
    "            fwrite.write(f'{count}. {key}')\n",
    "            count += 1\n",
    "            writeFile(answer,fwrite)\n",
    "        elif key[3:start-1] == \"mother\":\n",
    "            answer =  mother(key[start:dau],key[dau+1:end])\n",
    "            fwrite.write(f'{count}. {key}')\n",
    "            count += 1\n",
    "            writeFile(answer,fwrite)\n",
    "        elif key[3:start-1] == \"son\":\n",
    "            answer =  son(key[start:dau],key[dau+1:end])\n",
    "            fwrite.write(f'{count}. {key}')\n",
    "            count += 1\n",
    "            writeFile(answer,fwrite)\n",
    "        elif key[3:start-1] == \"daughter\":\n",
    "            answer =  daughter(key[start:dau],key[dau+1:end])\n",
    "            fwrite.write(f'{count}. {key}')\n",
    "            count += 1\n",
    "            writeFile(answer,fwrite)\n",
    "        elif key[3:start-1] == \"grandparent\":\n",
    "            answer =  grandparent(key[start:dau],key[dau+1:end])\n",
    "            fwrite.write(f'{count}. {key}')\n",
    "            count += 1\n",
    "            writeFile(answer,fwrite)\n",
    "        elif key[3:start-1] == \"grandfather\":\n",
    "            answer =  grandfather(key[start:dau],key[dau+1:end])\n",
    "            fwrite.write(f'{count}. {key}')\n",
    "            count += 1\n",
    "            writeFile(answer,fwrite)\n",
    "        elif key[3:start-1] == \"grandson\":\n",
    "            answer =  grandson(key[start:dau],key[dau+1:end])\n",
    "            fwrite.write(f'{count}. {key}')\n",
    "            count += 1\n",
    "            writeFile(answer,fwrite)\n",
    "        elif key[3:start-1] == \"granddaughter\":\n",
    "            answer =  granddaughter(key[start:dau],key[dau+1:end])\n",
    "            fwrite.write(f'{count}. {key}')\n",
    "            count += 1\n",
    "            writeFile(answer,fwrite)\n",
    "        elif key[3:start-1] == \"sibling\":\n",
    "            answer =  sibling(key[start:dau],key[dau+1:end])\n",
    "            fwrite.write(f'{count}. {key}')\n",
    "            count += 1\n",
    "            writeFile(answer,fwrite)\n",
    "        elif key[3:start-1] == \"brother\":\n",
    "            answer =  brother(key[start:dau],key[dau+1:end])\n",
    "            fwrite.write(f'{count}. {key}')\n",
    "            count += 1\n",
    "            writeFile(answer,fwrite)\n",
    "        elif key[3:start-1] == \"sister\":\n",
    "            answer =  sister(key[start:dau],key[dau+1:end])\n",
    "            fwrite.write(f'{count}. {key}')\n",
    "            count += 1\n",
    "            writeFile(answer,fwrite)\n",
    "        elif key[3:start-1] == \"aunt\":\n",
    "            answer =  aunt(key[start:dau],key[dau+1:end])\n",
    "            fwrite.write(f'{count}. {key}')\n",
    "            count += 1\n",
    "            writeFile(answer,fwrite)\n",
    "        elif key[3:start-1] == \"niece\":\n",
    "            answer =  niece(key[start:dau],key[dau+1:end])\n",
    "            fwrite.write(f'{count}. {key}')\n",
    "            count += 1\n",
    "            writeFile(answer,fwrite)\n",
    "        elif key[3:start-1] == \"uncle\":\n",
    "            answer =  uncle(key[start:dau],key[dau+1:end])\n",
    "            fwrite.write(f'{count}. {key}')\n",
    "            count += 1\n",
    "            writeFile(answer,fwrite)\n",
    "        elif key[3:start-1] == \"nephew\":\n",
    "            answer =  nephew(key[start:dau],key[dau+1:end])\n",
    "            fwrite.write(f'{count}. {key}')\n",
    "            count += 1\n",
    "            writeFile(answer,fwrite)\n",
    "        elif key[3:start-1] == \"married\":\n",
    "            answer =  married(key[start:dau],key[dau+1:end])\n",
    "            fwrite.write(f'{count}. {key}')\n",
    "            count += 1\n",
    "            writeFile(answer,fwrite)\n",
    "        elif key[3:start-1] == \"divorced\":\n",
    "            answer =  divorced(key[start:dau],key[dau+1:end])\n",
    "            fwrite.write(f'{count}. {key}')\n",
    "            count += 1\n",
    "            writeFile(answer,fwrite)\n",
    "        elif key[3:start-1] == \"parent\":\n",
    "            answer =  parent(key[start:dau],key[dau+1:end])\n",
    "            fwrite.write(f'{count}. {key}')\n",
    "            count += 1\n",
    "            writeFile(answer,fwrite)\n",
    "    fwrite.close()\n",
    "handleFile(any_questions,fw)"
   ]
  }
 ],
 "metadata": {
  "kernelspec": {
   "display_name": "Python 3",
   "language": "python",
   "name": "python3"
  },
  "language_info": {
   "codemirror_mode": {
    "name": "ipython",
    "version": 3
   },
   "file_extension": ".py",
   "mimetype": "text/x-python",
   "name": "python",
   "nbconvert_exporter": "python",
   "pygments_lexer": "ipython3",
   "version": "3.8.3"
  }
 },
 "nbformat": 4,
 "nbformat_minor": 4
}